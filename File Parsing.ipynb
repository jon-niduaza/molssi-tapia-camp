{
 "cells": [
  {
   "cell_type": "markdown",
   "metadata": {},
   "source": [
    "## File Parsing"
   ]
  },
  {
   "cell_type": "code",
   "execution_count": 1,
   "metadata": {},
   "outputs": [
    {
     "name": "stdout",
     "output_type": "stream",
     "text": [
      "Tapia Workshop.ipynb       \u001b[31mdistance_data_headers.csv\u001b[m\u001b[m*\r\n",
      "Untitled.ipynb             \u001b[34moutfiles\u001b[m\u001b[m/\r\n",
      "Untitled1.ipynb            \u001b[31msapt.out\u001b[m\u001b[m*\r\n",
      "\u001b[31mbenzene.xyz\u001b[m\u001b[m*               \u001b[31mwater.xyz\u001b[m\u001b[m*\r\n",
      "\u001b[31mbuckminsterfullerene.xyz\u001b[m\u001b[m*\r\n"
     ]
    }
   ],
   "source": [
    "ls       #lists"
   ]
  },
  {
   "cell_type": "code",
   "execution_count": 2,
   "metadata": {},
   "outputs": [
    {
     "name": "stdout",
     "output_type": "stream",
     "text": [
      "\u001b[31mbutanol.out\u001b[m\u001b[m*  \u001b[31methanol.out\u001b[m\u001b[m*  \u001b[31mhexanol.out\u001b[m\u001b[m*  \u001b[31mnonanol.out\u001b[m\u001b[m*  \u001b[31mpentanol.out\u001b[m\u001b[m*\r\n",
      "\u001b[31mdecanol.out\u001b[m\u001b[m*  \u001b[31mheptanol.out\u001b[m\u001b[m* \u001b[31mmethanol.out\u001b[m\u001b[m* \u001b[31moctanol.out\u001b[m\u001b[m*  \u001b[31mpropanol.out\u001b[m\u001b[m*\r\n"
     ]
    }
   ],
   "source": [
    "ls outfiles       #lists files in the folder"
   ]
  },
  {
   "cell_type": "code",
   "execution_count": 3,
   "metadata": {},
   "outputs": [
    {
     "data": {
      "text/plain": [
       "'/Users/iisalang/Desktop/cms-workshop/data'"
      ]
     },
     "execution_count": 3,
     "metadata": {},
     "output_type": "execute_result"
    }
   ],
   "source": [
    "pwd      #shows you where you are"
   ]
  },
  {
   "cell_type": "code",
   "execution_count": 4,
   "metadata": {},
   "outputs": [],
   "source": [
    "import os     # python operating script that allows you work using python function package"
   ]
  },
  {
   "cell_type": "code",
   "execution_count": 5,
   "metadata": {},
   "outputs": [
    {
     "name": "stdout",
     "output_type": "stream",
     "text": [
      "outfiles/ethanol.out\n"
     ]
    }
   ],
   "source": [
    "ethanol_file = os.path.join('outfiles', 'ethanol.out')    # creates file as variable to be opened\n",
    "print(ethanol_file)"
   ]
  },
  {
   "cell_type": "code",
   "execution_count": 6,
   "metadata": {},
   "outputs": [],
   "source": [
    "outfile = open(ethanol_file, 'r')               # opens files to allow reading\n",
    "data = outfile.readlines()         #sucks in lines of files and saves lines as an elemnt of list in data"
   ]
  },
  {
   "cell_type": "code",
   "execution_count": 9,
   "metadata": {},
   "outputs": [
    {
     "name": "stdout",
     "output_type": "stream",
     "text": [
      "270\n"
     ]
    }
   ],
   "source": [
    "length_data = len(data)\n",
    "print(length_data)"
   ]
  },
  {
   "cell_type": "code",
   "execution_count": 10,
   "metadata": {},
   "outputs": [
    {
     "name": "stdout",
     "output_type": "stream",
     "text": [
      "  @DF-RHF Final Energy:  -154.09130176573018\n",
      "\n"
     ]
    }
   ],
   "source": [
    "for line in data:\n",
    "    if 'Final Energy' in line: \n",
    "        energy_line = line\n",
    "print(energy_line)"
   ]
  },
  {
   "cell_type": "code",
   "execution_count": 12,
   "metadata": {},
   "outputs": [
    {
     "name": "stdout",
     "output_type": "stream",
     "text": [
      "['@DF-RHF', 'Final', 'Energy:', '-154.09130176573018']\n"
     ]
    }
   ],
   "source": [
    "words = energy_line.split()         # splits words/numbers into items in a list to get the data number you want, if no space in paranthesis, will split in spaces\n",
    "print(words)"
   ]
  },
  {
   "cell_type": "code",
   "execution_count": 13,
   "metadata": {},
   "outputs": [
    {
     "name": "stdout",
     "output_type": "stream",
     "text": [
      "['  @DF-RHF Final Energy', '  -154.09130176573018\\n']\n"
     ]
    }
   ],
   "source": [
    "words2 = energy_line.split(':')    #\\n means new line character\n",
    "print(words2)"
   ]
  },
  {
   "cell_type": "code",
   "execution_count": 14,
   "metadata": {},
   "outputs": [
    {
     "name": "stdout",
     "output_type": "stream",
     "text": [
      "-154.09130176573018\n"
     ]
    }
   ],
   "source": [
    "energy = words[3]\n",
    "print(energy)"
   ]
  },
  {
   "cell_type": "code",
   "execution_count": 15,
   "metadata": {},
   "outputs": [
    {
     "data": {
      "text/plain": [
       "str"
      ]
     },
     "execution_count": 15,
     "metadata": {},
     "output_type": "execute_result"
    }
   ],
   "source": [
    "type(energy)   # needs to be a float in order to use it as a number data"
   ]
  },
  {
   "cell_type": "code",
   "execution_count": 16,
   "metadata": {},
   "outputs": [],
   "source": [
    "energy = float(energy)"
   ]
  },
  {
   "cell_type": "code",
   "execution_count": 17,
   "metadata": {},
   "outputs": [
    {
     "data": {
      "text/plain": [
       "float"
      ]
     },
     "execution_count": 17,
     "metadata": {},
     "output_type": "execute_result"
    }
   ],
   "source": [
    "type(energy)"
   ]
  },
  {
   "cell_type": "code",
   "execution_count": 18,
   "metadata": {},
   "outputs": [
    {
     "data": {
      "text/plain": [
       "-104.09130176573018"
      ]
     },
     "execution_count": 18,
     "metadata": {},
     "output_type": "execute_result"
    }
   ],
   "source": [
    "energy + 50      #now can have math operations done with it"
   ]
  },
  {
   "cell_type": "code",
   "execution_count": 22,
   "metadata": {},
   "outputs": [],
   "source": [
    "for linenum, line in enumerate(data):       #To find where coordinates section starts in file. enumerate kept line number of where data was \n",
    "    if 'Center' in line:\n",
    "        center_line = linenum"
   ]
  },
  {
   "cell_type": "code",
   "execution_count": 23,
   "metadata": {},
   "outputs": [
    {
     "name": "stdout",
     "output_type": "stream",
     "text": [
      "79\n"
     ]
    }
   ],
   "source": [
    "coord_start = center_line +2\n",
    "print(coord_start)"
   ]
  },
  {
   "cell_type": "code",
   "execution_count": 24,
   "metadata": {},
   "outputs": [
    {
     "name": "stdout",
     "output_type": "stream",
     "text": [
      "           H          0.278612764252     1.265047047666    -1.274211449480     1.007825032070\n",
      "\n"
     ]
    }
   ],
   "source": [
    "print(data[coord_start])"
   ]
  },
  {
   "cell_type": "code",
   "execution_count": 25,
   "metadata": {},
   "outputs": [],
   "source": [
    "import glob"
   ]
  },
  {
   "cell_type": "code",
   "execution_count": 26,
   "metadata": {},
   "outputs": [
    {
     "data": {
      "text/plain": [
       "'/Users/iisalang/Desktop/cms-workshop/data'"
      ]
     },
     "execution_count": 26,
     "metadata": {},
     "output_type": "execute_result"
    }
   ],
   "source": [
    "pwd"
   ]
  },
  {
   "cell_type": "code",
   "execution_count": 28,
   "metadata": {},
   "outputs": [
    {
     "name": "stdout",
     "output_type": "stream",
     "text": [
      "outfiles/*.out\n"
     ]
    }
   ],
   "source": [
    "file_location = os.path.join('outfiles','*.out')\n",
    "print(file_location)"
   ]
  },
  {
   "cell_type": "code",
   "execution_count": 29,
   "metadata": {},
   "outputs": [
    {
     "name": "stdout",
     "output_type": "stream",
     "text": [
      "['outfiles/propanol.out', 'outfiles/pentanol.out', 'outfiles/decanol.out', 'outfiles/methanol.out', 'outfiles/octanol.out', 'outfiles/ethanol.out', 'outfiles/hexanol.out', 'outfiles/heptanol.out', 'outfiles/butanol.out', 'outfiles/nonanol.out']\n"
     ]
    }
   ],
   "source": [
    "filenames = glob.glob(file_location)\n",
    "print(filenames)"
   ]
  },
  {
   "cell_type": "code",
   "execution_count": 31,
   "metadata": {},
   "outputs": [
    {
     "name": "stdout",
     "output_type": "stream",
     "text": [
      "-193.12836249728798\n",
      "-271.20138119895074\n",
      "-466.3836241400086\n",
      "-115.04800861868374\n",
      "-388.3110864554743\n",
      "-154.09130176573018\n",
      "-310.2385332251633\n",
      "-349.27397687072676\n",
      "-232.1655798347283\n",
      "-427.3465180082815\n"
     ]
    }
   ],
   "source": [
    "for file in filenames: \n",
    "    outfile = open(file,'r')\n",
    "    data = outfile.readlines()       #variable name will be overwritten, should not do this in actual coding m8 because you'll lose the data\n",
    "    outfile.close()\n",
    "    for line in data:\n",
    "        if 'Final Energy' in line:\n",
    "            energy_line = line\n",
    "            words = energy_line.split()\n",
    "            energy = float(words[3])\n",
    "            print(energy)"
   ]
  },
  {
   "cell_type": "code",
   "execution_count": 32,
   "metadata": {},
   "outputs": [
    {
     "name": "stdout",
     "output_type": "stream",
     "text": [
      "outfiles/propanol.out\n"
     ]
    }
   ],
   "source": [
    "first_file = filenames[0]\n",
    "print(first_file)"
   ]
  },
  {
   "cell_type": "code",
   "execution_count": 33,
   "metadata": {},
   "outputs": [
    {
     "name": "stdout",
     "output_type": "stream",
     "text": [
      "propanol.out\n"
     ]
    }
   ],
   "source": [
    "file_name = os.path.basename(first_file)\n",
    "print(file_name)"
   ]
  },
  {
   "cell_type": "code",
   "execution_count": 46,
   "metadata": {},
   "outputs": [
    {
     "name": "stdout",
     "output_type": "stream",
     "text": [
      "propanol\n"
     ]
    }
   ],
   "source": [
    "split_filename = file_name.split('.')    #splits filename from .out\n",
    "molecule_name = split_filename[0]\n",
    "print(molecule_name)"
   ]
  },
  {
   "cell_type": "code",
   "execution_count": 52,
   "metadata": {},
   "outputs": [],
   "source": [
    "datafile = open('energies.txt', 'w+')     # 'w+' means open file, and if it doesn't exist, create it.\n",
    "\n",
    "for file in filenames: \n",
    "    #Get the molecule name\n",
    "    file_name = os.path.basename(file)\n",
    "    split_filename = file_name.split('.')\n",
    "    molecule_name = split_filename [0]\n",
    "    \n",
    "    outfile = open(file,'r')\n",
    "    data = outfile.readlines()       #variable name will be overwritten, should not do this in actual coding m8 because you'll lose the data\n",
    "    outfile.close()\n",
    "    for line in data:\n",
    "        if 'Final Energy' in line:\n",
    "            energy_line = line\n",
    "            words = energy_line.split()\n",
    "            energy = float(words[3])\n",
    "            datafile.write(F'{molecule_name} \\t {energy:.4f} \\n')    # puts molecule name next to it's energy value and make it string to add to file\n",
    "                                                                     #.4f means four figures in decimal\n",
    "datafile.close()       # closes datafile and will enter it into a file. Do it seperate from the for loop"
   ]
  },
  {
   "cell_type": "code",
   "execution_count": null,
   "metadata": {},
   "outputs": [],
   "source": []
  }
 ],
 "metadata": {
  "kernelspec": {
   "display_name": "Python 3",
   "language": "python",
   "name": "python3"
  },
  "language_info": {
   "codemirror_mode": {
    "name": "ipython",
    "version": 3
   },
   "file_extension": ".py",
   "mimetype": "text/x-python",
   "name": "python",
   "nbconvert_exporter": "python",
   "pygments_lexer": "ipython3",
   "version": "3.7.3"
  }
 },
 "nbformat": 4,
 "nbformat_minor": 2
}
